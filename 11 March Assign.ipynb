{
 "cells": [
  {
   "cell_type": "code",
   "execution_count": 1,
   "id": "a89c5534-7f69-455d-a6b5-3b47d4d71296",
   "metadata": {},
   "outputs": [
    {
     "data": {
      "text/plain": [
       "'Q1: What is the difference between a t-test and a z-test? Provide an example scenario where you would use each type of test.\\n\\n    Ans: A t-test is used when the sample size is small or when the population standard deviation is unknown, \\n         while a z-test is used when the sample size is large and the population standard deviation is known. \\n         For example, you would use a t-test to compare the means of two small groups and a z-test to compare the means of two large groups.\\n'"
      ]
     },
     "execution_count": 1,
     "metadata": {},
     "output_type": "execute_result"
    }
   ],
   "source": [
    "\"\"\"Q1: What is the difference between a t-test and a z-test? Provide an example scenario where you would use each type of test.\n",
    "\n",
    "    Ans: A t-test is used when the sample size is small or when the population standard deviation is unknown, \n",
    "         while a z-test is used when the sample size is large and the population standard deviation is known. \n",
    "         For example, you would use a t-test to compare the means of two small groups and a z-test to compare the means of two large groups.\n",
    "\"\"\""
   ]
  },
  {
   "cell_type": "code",
   "execution_count": 2,
   "id": "6b0b4130-3442-4b55-ac54-9e539b8c5389",
   "metadata": {},
   "outputs": [
    {
     "data": {
      "text/plain": [
       "'Q2: Differentiate between one-tailed and two-tailed tests.\\n\\n    Ans: In a one-tailed test, the hypothesis is focused on only one direction of the effect, either positive or negative. \\n    In a two-tailed test, the hypothesis is concerned with both directions of the effect, allowing for the possibility of a difference in either direction.\\n'"
      ]
     },
     "execution_count": 2,
     "metadata": {},
     "output_type": "execute_result"
    }
   ],
   "source": [
    "\"\"\"Q2: Differentiate between one-tailed and two-tailed tests.\n",
    "\n",
    "    Ans: In a one-tailed test, the hypothesis is focused on only one direction of the effect, either positive or negative. \n",
    "    In a two-tailed test, the hypothesis is concerned with both directions of the effect, allowing for the possibility of a difference in either direction.\n",
    "\"\"\""
   ]
  },
  {
   "cell_type": "code",
   "execution_count": 3,
   "id": "3379f948-0371-4f85-a586-467c46db2f01",
   "metadata": {},
   "outputs": [
    {
     "data": {
      "text/plain": [
       "\"Q3: Explain the concept of Type 1 and Type 2 errors in hypothesis testing. Provide an example scenario for each type of error.\\n\\n    Ans: Type 1 error occurs when a true null hypothesis is incorrectly rejected, indicating a significant effect when there isn't one. \\n         For example, a drug is mistakenly believed to be effective. Type 2 error happens when a false null hypothesis is not rejected, \\n         failing to detect a real effect. For instance, a drug with actual benefits is considered ineffective.\\n\""
      ]
     },
     "execution_count": 3,
     "metadata": {},
     "output_type": "execute_result"
    }
   ],
   "source": [
    "\"\"\"Q3: Explain the concept of Type 1 and Type 2 errors in hypothesis testing. Provide an example scenario for each type of error.\n",
    "\n",
    "    Ans: Type 1 error occurs when a true null hypothesis is incorrectly rejected, indicating a significant effect when there isn't one. \n",
    "         For example, a drug is mistakenly believed to be effective. Type 2 error happens when a false null hypothesis is not rejected, \n",
    "         failing to detect a real effect. For instance, a drug with actual benefits is considered ineffective.\n",
    "\"\"\""
   ]
  },
  {
   "cell_type": "code",
   "execution_count": 4,
   "id": "806190db-60e5-4f85-b134-d4d28cd80149",
   "metadata": {},
   "outputs": [
    {
     "data": {
      "text/plain": [
       "\"Q4: Explain Bayes's theorem with an example.\\n\\n    Ans: Bayes's theorem is a mathematical formula that helps us update the probability of an event based on new evidence. \\n         It can be expressed as P(A|B) = (P(B|A) * P(A)) / P(B), where P(A|B) is the probability of event A occurring given event B. \\n         For example, consider a medical test for a rare disease with a 99% accuracy rate. If the test is positive (event B), \\n         Bayes's theorem helps calculate the probability of having the disease (event A) based on the prevalence of the disease (P(A))\\n         and the false positive rate (1%).\\n\""
      ]
     },
     "execution_count": 4,
     "metadata": {},
     "output_type": "execute_result"
    }
   ],
   "source": [
    "\"\"\"Q4: Explain Bayes's theorem with an example.\n",
    "\n",
    "    Ans: Bayes's theorem is a mathematical formula that helps us update the probability of an event based on new evidence. \n",
    "         It can be expressed as P(A|B) = (P(B|A) * P(A)) / P(B), where P(A|B) is the probability of event A occurring given event B. \n",
    "         For example, consider a medical test for a rare disease with a 99% accuracy rate. If the test is positive (event B), \n",
    "         Bayes's theorem helps calculate the probability of having the disease (event A) based on the prevalence of the disease (P(A))\n",
    "         and the false positive rate (1%).\n",
    "\"\"\""
   ]
  },
  {
   "cell_type": "code",
   "execution_count": 5,
   "id": "fd4bb930-9afd-45ce-8512-9197eb396f86",
   "metadata": {},
   "outputs": [
    {
     "data": {
      "text/plain": [
       "'Q5: What is a confidence interval? How to calculate the confidence interval, explain with an example.\\n\\n    Ans: A confidence interval is a range of values that provides an estimate of the likely range of values for a population parameter. \\n         To calculate a confidence interval, you need the sample mean, standard deviation, sample size, and desired level of confidence. \\n         For example, a 95% confidence interval for the population mean weight of adults might be calculated as 150 lbs ± 5 lbs.\\n'"
      ]
     },
     "execution_count": 5,
     "metadata": {},
     "output_type": "execute_result"
    }
   ],
   "source": [
    "\"\"\"Q5: What is a confidence interval? How to calculate the confidence interval, explain with an example.\n",
    "\n",
    "    Ans: A confidence interval is a range of values that provides an estimate of the likely range of values for a population parameter. \n",
    "         To calculate a confidence interval, you need the sample mean, standard deviation, sample size, and desired level of confidence. \n",
    "         For example, a 95% confidence interval for the population mean weight of adults might be calculated as 150 lbs ± 5 lbs.\n",
    "\"\"\""
   ]
  },
  {
   "cell_type": "code",
   "execution_count": 6,
   "id": "a4eda771-0752-40e7-a95d-79627604f0ed",
   "metadata": {},
   "outputs": [
    {
     "data": {
      "text/plain": [
       "\"Q6.Use Bayes' Theorem to calculate the probability of an event occurring given prior knowledge of the event's probability and new evidence. \\n    Provide a sample problem and solution.\\n\\n    Ans:    Let's consider a sample problem: \\n            Suppose a factory produces two types of products, A and B, with 80% and 20% probabilities, respectively. \\n            The quality control test correctly identifies 90% of type A products and 70% of type B products.\\n            Given that a randomly selected product failed the test, what is the probability that it is type A?\\n\\n            Solution using Bayes' Theorem:\\n            Let A be the event of selecting type A product, and B be the event of failing the quality control test.\\n            P(A) = 0.8 (prior probability of selecting type A)\\n            P(B|A) = 0.1 (probability of failing the test given it's type A)\\n            P(B|not A) = 0.3 (probability of failing the test given it's not type A)\\n            P(not A) = 1 - P(A) = 0.2 (prior probability of not selecting type A)\\n\\n            Using Bayes' Theorem: P(A|B) = (P(B|A) * P(A)) / (P(B|A) * P(A) + P(B|not A) * P(not A))\\n            P(A|B) = (0.1 * 0.8) / (0.1 * 0.8 + 0.3 * 0.2)\\n            P(A|B) = 0.08 / (0.08 + 0.06)\\n            P(A|B) = 0.08 / 0.14\\n            P(A|B) ≈ 0.571 or 57.1% (approximately)\\n\\n            Therefore, given that a randomly selected product failed the test, there is a 57.1% probability that it is type A.\\n\""
      ]
     },
     "execution_count": 6,
     "metadata": {},
     "output_type": "execute_result"
    }
   ],
   "source": [
    "\"\"\"Q6.Use Bayes' Theorem to calculate the probability of an event occurring given prior knowledge of the event's probability and new evidence. \n",
    "    Provide a sample problem and solution.\n",
    "\n",
    "    Ans:    Let's consider a sample problem: \n",
    "            Suppose a factory produces two types of products, A and B, with 80% and 20% probabilities, respectively. \n",
    "            The quality control test correctly identifies 90% of type A products and 70% of type B products.\n",
    "            Given that a randomly selected product failed the test, what is the probability that it is type A?\n",
    "\n",
    "            Solution using Bayes' Theorem:\n",
    "            Let A be the event of selecting type A product, and B be the event of failing the quality control test.\n",
    "            P(A) = 0.8 (prior probability of selecting type A)\n",
    "            P(B|A) = 0.1 (probability of failing the test given it's type A)\n",
    "            P(B|not A) = 0.3 (probability of failing the test given it's not type A)\n",
    "            P(not A) = 1 - P(A) = 0.2 (prior probability of not selecting type A)\n",
    "\n",
    "            Using Bayes' Theorem: P(A|B) = (P(B|A) * P(A)) / (P(B|A) * P(A) + P(B|not A) * P(not A))\n",
    "            P(A|B) = (0.1 * 0.8) / (0.1 * 0.8 + 0.3 * 0.2)\n",
    "            P(A|B) = 0.08 / (0.08 + 0.06)\n",
    "            P(A|B) = 0.08 / 0.14\n",
    "            P(A|B) ≈ 0.571 or 57.1% (approximately)\n",
    "\n",
    "            Therefore, given that a randomly selected product failed the test, there is a 57.1% probability that it is type A.\n",
    "\"\"\""
   ]
  },
  {
   "cell_type": "code",
   "execution_count": 7,
   "id": "b486f85e-914f-4d50-bcbd-d7499bb77061",
   "metadata": {},
   "outputs": [
    {
     "data": {
      "text/plain": [
       "'Q7. Calculate the 95% confidence interval for a sample of data with a mean of 50 and a standard deviation of 5. Interpret the results.\\n\\n    Ans: CI = x̄ ± Z * (σ / sqrt(n)) \\n            x̄ = 50\\n            Z(of 95%) = 1.96\\n            σ = 5\\n            n = not given \\n        Confidence Interval ≈ 50 ± (1.96 * (5 / √(Sample Size)))\\n        Interpretation: The 95% confidence interval suggests that we are 95% confident that the true population mean falls within the \\n            range of values obtained by adding and subtracting the calculated margin of error from the sample mean.\\n'"
      ]
     },
     "execution_count": 7,
     "metadata": {},
     "output_type": "execute_result"
    }
   ],
   "source": [
    "\"\"\"Q7. Calculate the 95% confidence interval for a sample of data with a mean of 50 and a standard deviation of 5. Interpret the results.\n",
    "\n",
    "    Ans: CI = x̄ ± Z * (σ / sqrt(n)) \n",
    "            x̄ = 50\n",
    "            Z(of 95%) = 1.96\n",
    "            σ = 5\n",
    "            n = not given \n",
    "        Confidence Interval ≈ 50 ± (1.96 * (5 / √(Sample Size)))\n",
    "        Interpretation: The 95% confidence interval suggests that we are 95% confident that the true population mean falls within the \n",
    "            range of values obtained by adding and subtracting the calculated margin of error from the sample mean.\n",
    "\"\"\""
   ]
  },
  {
   "cell_type": "code",
   "execution_count": 8,
   "id": "58235a44-8a09-477c-b751-2e0e59f0bb11",
   "metadata": {},
   "outputs": [
    {
     "data": {
      "text/plain": [
       "'Q8. What is the margin of error in a confidence interval? How does sample size affect the margin of error?\\n       Provide an example of a scenario where a larger sample size would result in a smaller margin of error.\\n       \\n    Ans: The margin of error is the range around the sample estimate that represents the uncertainty in estimating the population parameter. \\n         It quantifies the precision of the estimate. A larger sample size reduces the margin of error as it provides more information and \\n         reduces sampling variability. For example, if a survey aims to estimate the proportion of people supporting a political candidate, \\n         a larger sample size will result in a smaller margin of error, providing a more precise estimate of the true proportion.       \\n'"
      ]
     },
     "execution_count": 8,
     "metadata": {},
     "output_type": "execute_result"
    }
   ],
   "source": [
    "\"\"\"Q8. What is the margin of error in a confidence interval? How does sample size affect the margin of error?\n",
    "       Provide an example of a scenario where a larger sample size would result in a smaller margin of error.\n",
    "       \n",
    "    Ans: The margin of error is the range around the sample estimate that represents the uncertainty in estimating the population parameter. \n",
    "         It quantifies the precision of the estimate. A larger sample size reduces the margin of error as it provides more information and \n",
    "         reduces sampling variability. For example, if a survey aims to estimate the proportion of people supporting a political candidate, \n",
    "         a larger sample size will result in a smaller margin of error, providing a more precise estimate of the true proportion.       \n",
    "\"\"\""
   ]
  },
  {
   "cell_type": "code",
   "execution_count": 9,
   "id": "befe2a86-fe54-4a65-8ad6-82bee849e59f",
   "metadata": {},
   "outputs": [
    {
     "data": {
      "text/plain": [
       "'Q9. Calculate the z-score for a data point with a value of 75, a population mean of 70, and a population standard deviation of 5. \\n       Interpret the results.\\n       \\n    Ans: z = (x - μ) / σ\\n            x = 75, μ = 70, σ = 5\\n         z = (75 - 70) / 5\\n         z = 5 / 5\\n         z = 1\\n    Interpretation: The data point with a value of 75 is one standard deviation above the population mean.        \\n'"
      ]
     },
     "execution_count": 9,
     "metadata": {},
     "output_type": "execute_result"
    }
   ],
   "source": [
    "\"\"\"Q9. Calculate the z-score for a data point with a value of 75, a population mean of 70, and a population standard deviation of 5. \n",
    "       Interpret the results.\n",
    "       \n",
    "    Ans: z = (x - μ) / σ\n",
    "            x = 75, μ = 70, σ = 5\n",
    "         z = (75 - 70) / 5\n",
    "         z = 5 / 5\n",
    "         z = 1\n",
    "    Interpretation: The data point with a value of 75 is one standard deviation above the population mean.        \n",
    "\"\"\""
   ]
  },
  {
   "cell_type": "code",
   "execution_count": 10,
   "id": "6f557d00-c45e-409e-ac86-2cbc1e756133",
   "metadata": {},
   "outputs": [
    {
     "data": {
      "text/plain": [
       "'Q10. In a study of the effectiveness of a new weight loss drug, a sample of 50 participants lost an average of 6 pounds with a standard deviation of 2.5 pounds. \\n        Conduct a hypothesis test to determine if the drug is significantly effective at a 95% confidence level using a t-test.\\n        \\n    Ans: Null hypothesis (H0): The new weight loss drug is not significantly effective. μ = 0 (mean weight loss is zero)\\n         Alternative hypothesis (Ha): The new weight loss drug is significantly effective. μ ≠ 0 (mean weight loss is not zero)\\n         Using the given sample information (n = 50, sample mean = 6 pounds, sample standard deviation = 2.5 pounds), we can calculate the t-score:\\n         t = (sample mean - hypothesized mean) / (sample standard deviation / √n)\\n         t = (6 - 0) / (2.5 / √50)\\n         t ≈ 17.32\\n         With 50 participants, we have 49 degrees of freedom (n - 1). Using a t-table or statistical software, we can find the critical \\n             t-value for a 95% confidence level (two-tailed test) with 49 degrees of freedom, which is approximately 2.009.\\n         Since the calculated t-score (17.32) is greater than the critical t-value (2.009), we reject the null hypothesis. \\n             Thus, we can conclude that the weight loss drug is significantly effective at a 95% confidence level.        \\n'"
      ]
     },
     "execution_count": 10,
     "metadata": {},
     "output_type": "execute_result"
    }
   ],
   "source": [
    "\"\"\"Q10. In a study of the effectiveness of a new weight loss drug, a sample of 50 participants lost an average of 6 pounds with a standard deviation of 2.5 pounds. \n",
    "        Conduct a hypothesis test to determine if the drug is significantly effective at a 95% confidence level using a t-test.\n",
    "        \n",
    "    Ans: Null hypothesis (H0): The new weight loss drug is not significantly effective. μ = 0 (mean weight loss is zero)\n",
    "         Alternative hypothesis (Ha): The new weight loss drug is significantly effective. μ ≠ 0 (mean weight loss is not zero)\n",
    "         Using the given sample information (n = 50, sample mean = 6 pounds, sample standard deviation = 2.5 pounds), we can calculate the t-score:\n",
    "         t = (sample mean - hypothesized mean) / (sample standard deviation / √n)\n",
    "         t = (6 - 0) / (2.5 / √50)\n",
    "         t ≈ 17.32\n",
    "         With 50 participants, we have 49 degrees of freedom (n - 1). Using a t-table or statistical software, we can find the critical \n",
    "             t-value for a 95% confidence level (two-tailed test) with 49 degrees of freedom, which is approximately 2.009.\n",
    "         Since the calculated t-score (17.32) is greater than the critical t-value (2.009), we reject the null hypothesis. \n",
    "             Thus, we can conclude that the weight loss drug is significantly effective at a 95% confidence level.        \n",
    "\"\"\""
   ]
  },
  {
   "cell_type": "code",
   "execution_count": 11,
   "id": "7253fbc3-b237-47d4-9315-0c17dc84deed",
   "metadata": {},
   "outputs": [
    {
     "data": {
      "text/plain": [
       "'Q11. In a survey of 500 people, 65% reported being satisfied with their current job. \\n        Calculate the 95% confidence interval for the true proportion of people who are satisfied with their job.\\n        \\n    Ans: To calculate the 95% confidence interval for the true proportion of people satisfied with their job, we can use the formula:\\n            CI = p̂ ± Z * sqrt((p̂ * (1 - p̂)) / n)\\n                CI is the confidence interval\\n                p̂ is the sample proportion (65% or 0.65)\\n                Z is the critical value(for a 95% confidence level, Z ≈ 1.96),\\n                n = 500\\n            CI = 0.65 ± 1.96 * sqrt((0.65 * (1 - 0.65)) / 500)\\n            CI ≈ 0.65 ± 1.96 * 0.02022\\n            CI ≈ (0.608, 0.692)\\n        The 95% confidence interval for the true proportion of people satisfied with their job is approximately (60.8%, 69.2%).\\n'"
      ]
     },
     "execution_count": 11,
     "metadata": {},
     "output_type": "execute_result"
    }
   ],
   "source": [
    "\"\"\"Q11. In a survey of 500 people, 65% reported being satisfied with their current job. \n",
    "        Calculate the 95% confidence interval for the true proportion of people who are satisfied with their job.\n",
    "        \n",
    "    Ans: To calculate the 95% confidence interval for the true proportion of people satisfied with their job, we can use the formula:\n",
    "            CI = p̂ ± Z * sqrt((p̂ * (1 - p̂)) / n)\n",
    "                CI is the confidence interval\n",
    "                p̂ is the sample proportion (65% or 0.65)\n",
    "                Z is the critical value(for a 95% confidence level, Z ≈ 1.96),\n",
    "                n = 500\n",
    "            CI = 0.65 ± 1.96 * sqrt((0.65 * (1 - 0.65)) / 500)\n",
    "            CI ≈ 0.65 ± 1.96 * 0.02022\n",
    "            CI ≈ (0.608, 0.692)\n",
    "        The 95% confidence interval for the true proportion of people satisfied with their job is approximately (60.8%, 69.2%).\n",
    "\"\"\""
   ]
  },
  {
   "cell_type": "code",
   "execution_count": 12,
   "id": "0470261c-b21a-4df1-a51a-a515902858f4",
   "metadata": {},
   "outputs": [
    {
     "data": {
      "text/plain": [
       "'Q12. A researcher is testing the effectiveness of two different teaching methods on student performance. Sample A has a mean score of 85 with a standard deviation of 6, \\n        while sample B has a mean score of 82 with a standard deviation of 5. Conduct a hypothesis test to determine if the two teaching methods have a significant \\n        difference in student performance using a t-test with a significance level of 0.01.\\n        \\n    Ans: Null hypothesis (H0): There is no significant difference in student performance between the two teaching methods. \\n             μA = μB (mean score of sample A is equal \\to mean score of sample B)\\n         Alternative hypothesis (Ha): There is a significant difference in student performance between the two teaching methods.\\n             μA ≠ μB (mean score of sample A is not equal to mean score of sample B)         \\n             \\n         Using the given sample information for Sample A (mean score = 85, standard deviation = 6) and Sample B (mean score = 82, standard deviation = 5), \\n             we can calculate the t-score:\\n             t = (sample mean difference - hypothesized mean difference) / (pooled standard deviation * sqrt(1/nA + 1/nB))\\n             t = (85 - 82) / (sqrt(((6^2)/nA) + ((5^2)/nB)))\\n             t ≈ 1.989\\n        Using a t-table or statistical software, we can find the critical t-value for a significance level of 0.01 with degrees of freedom equal to the sum \\n            of nA - 1 and nB - 1 . The critical t-value is approximately ±2.660.\\n        Since the calculated t-score (1.989) is not greater than the critical t-value (2.660), we fail to reject the null hypothesis. Thus, we do not \\n            have sufficient evidence to conclude a significant difference in student performance between the two teaching methods at a significance level of 0.01.\\n'"
      ]
     },
     "execution_count": 12,
     "metadata": {},
     "output_type": "execute_result"
    }
   ],
   "source": [
    "\"\"\"Q12. A researcher is testing the effectiveness of two different teaching methods on student performance. Sample A has a mean score of 85 with a standard deviation of 6, \n",
    "        while sample B has a mean score of 82 with a standard deviation of 5. Conduct a hypothesis test to determine if the two teaching methods have a significant \n",
    "        difference in student performance using a t-test with a significance level of 0.01.\n",
    "        \n",
    "    Ans: Null hypothesis (H0): There is no significant difference in student performance between the two teaching methods. \n",
    "             μA = μB (mean score of sample A is equal \\to mean score of sample B)\n",
    "         Alternative hypothesis (Ha): There is a significant difference in student performance between the two teaching methods.\n",
    "             μA ≠ μB (mean score of sample A is not equal to mean score of sample B)         \n",
    "             \n",
    "         Using the given sample information for Sample A (mean score = 85, standard deviation = 6) and Sample B (mean score = 82, standard deviation = 5), \n",
    "             we can calculate the t-score:\n",
    "             t = (sample mean difference - hypothesized mean difference) / (pooled standard deviation * sqrt(1/nA + 1/nB))\n",
    "             t = (85 - 82) / (sqrt(((6^2)/nA) + ((5^2)/nB)))\n",
    "             t ≈ 1.989\n",
    "        Using a t-table or statistical software, we can find the critical t-value for a significance level of 0.01 with degrees of freedom equal to the sum \n",
    "            of nA - 1 and nB - 1 . The critical t-value is approximately ±2.660.\n",
    "        Since the calculated t-score (1.989) is not greater than the critical t-value (2.660), we fail to reject the null hypothesis. Thus, we do not \n",
    "            have sufficient evidence to conclude a significant difference in student performance between the two teaching methods at a significance level of 0.01.\n",
    "\"\"\""
   ]
  },
  {
   "cell_type": "code",
   "execution_count": 13,
   "id": "99a88b98-cedc-4e0c-899e-3076953f52f9",
   "metadata": {},
   "outputs": [
    {
     "data": {
      "text/plain": [
       "'Q13. A population has a mean of 60 and a standard deviation of 8. A sample of 50 observations has a mean of 65. \\n        Calculate the 90% confidence interval for the true population mean.\\n        \\n    Ans: To calculate the 90% confidence interval for the true population mean, we can use the formula:\\n         CI = x̄ ± Z * (σ / sqrt(n)) \\n         CI = 65 ± 1.645 * (8 / sqrt(50))\\n         CI ≈ 65 ± 1.645 * 1.13\\n         CI ≈ (63.4, 66.6)\\n         The 90% confidence interval for the true population mean is approximately (63.4, 66.6).\\n         \\n'"
      ]
     },
     "execution_count": 13,
     "metadata": {},
     "output_type": "execute_result"
    }
   ],
   "source": [
    "\"\"\"Q13. A population has a mean of 60 and a standard deviation of 8. A sample of 50 observations has a mean of 65. \n",
    "        Calculate the 90% confidence interval for the true population mean.\n",
    "        \n",
    "    Ans: To calculate the 90% confidence interval for the true population mean, we can use the formula:\n",
    "         CI = x̄ ± Z * (σ / sqrt(n)) \n",
    "         CI = 65 ± 1.645 * (8 / sqrt(50))\n",
    "         CI ≈ 65 ± 1.645 * 1.13\n",
    "         CI ≈ (63.4, 66.6)\n",
    "         The 90% confidence interval for the true population mean is approximately (63.4, 66.6).\n",
    "         \n",
    "\"\"\""
   ]
  },
  {
   "cell_type": "code",
   "execution_count": 14,
   "id": "805d76d0-d992-45b8-979b-ed3f66e2ed14",
   "metadata": {},
   "outputs": [
    {
     "data": {
      "text/plain": [
       "'Q14. In a study of the effects of caffeine on reaction time,a sample of 30 participants had an average reaction time of 0.25 seconds with a standard deviation of 0.05 seconds.\\n        Conduct a hypothesis test to determine if the caffeine has a significant effect on reaction time at a 90% confidence level using a t-test.\\n        \\n    Ans: Null hypothesis (H0): Caffeine has no significant effect on reaction time. μ = 0 (mean reaction time difference is zero)\\n         Alternative hypothesis (Ha): Caffeine has a significant effect on reaction time. μ ≠ 0 (mean reaction time difference is not zero)    \\n         \\n         Using the given sample information (n = 30, sample mean = 0.25 seconds, sample standard deviation = 0.05 seconds), we can calculate the t-score:\\n            t = (sample mean - hypothesized mean) / (sample standard deviation / √n)\\n            t = (0.25 - 0) / (0.05 / √30)\\n            t ≈ 5.477\\n            \\n        With 30 participants, we have 29 degrees of freedom (n - 1). Using a t-table or statistical software, we can find the critical t-value for a \\n            90% confidence level (two-tailed test) with 29 degrees of freedom, which is approximately ±1.699.\\n        Since the calculated t-score (5.477) is greater than the critical t-value (±1.699), we reject the null hypothesis. Thus, we can conclude that caffeine has a \\n        significant effect on reaction time at a 90% confidence level.\\n'"
      ]
     },
     "execution_count": 14,
     "metadata": {},
     "output_type": "execute_result"
    }
   ],
   "source": [
    "\"\"\"Q14. In a study of the effects of caffeine on reaction time,a sample of 30 participants had an average reaction time of 0.25 seconds with a standard deviation of 0.05 seconds.\n",
    "        Conduct a hypothesis test to determine if the caffeine has a significant effect on reaction time at a 90% confidence level using a t-test.\n",
    "        \n",
    "    Ans: Null hypothesis (H0): Caffeine has no significant effect on reaction time. μ = 0 (mean reaction time difference is zero)\n",
    "         Alternative hypothesis (Ha): Caffeine has a significant effect on reaction time. μ ≠ 0 (mean reaction time difference is not zero)    \n",
    "         \n",
    "         Using the given sample information (n = 30, sample mean = 0.25 seconds, sample standard deviation = 0.05 seconds), we can calculate the t-score:\n",
    "            t = (sample mean - hypothesized mean) / (sample standard deviation / √n)\n",
    "            t = (0.25 - 0) / (0.05 / √30)\n",
    "            t ≈ 5.477\n",
    "            \n",
    "        With 30 participants, we have 29 degrees of freedom (n - 1). Using a t-table or statistical software, we can find the critical t-value for a \n",
    "            90% confidence level (two-tailed test) with 29 degrees of freedom, which is approximately ±1.699.\n",
    "        Since the calculated t-score (5.477) is greater than the critical t-value (±1.699), we reject the null hypothesis. Thus, we can conclude that caffeine has a \n",
    "        significant effect on reaction time at a 90% confidence level.\n",
    "\"\"\""
   ]
  },
  {
   "cell_type": "code",
   "execution_count": null,
   "id": "df7afbc1-4d68-4270-ba62-7c30695c8460",
   "metadata": {},
   "outputs": [],
   "source": []
  }
 ],
 "metadata": {
  "kernelspec": {
   "display_name": "Python 3 (ipykernel)",
   "language": "python",
   "name": "python3"
  },
  "language_info": {
   "codemirror_mode": {
    "name": "ipython",
    "version": 3
   },
   "file_extension": ".py",
   "mimetype": "text/x-python",
   "name": "python",
   "nbconvert_exporter": "python",
   "pygments_lexer": "ipython3",
   "version": "3.10.8"
  }
 },
 "nbformat": 4,
 "nbformat_minor": 5
}
